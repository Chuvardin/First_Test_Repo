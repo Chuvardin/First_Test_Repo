{
  "nbformat": 4,
  "nbformat_minor": 0,
  "metadata": {
    "colab": {
      "name": "lab1.ipynb",
      "provenance": [],
      "collapsed_sections": [],
      "authorship_tag": "ABX9TyPnfDuOvI4nZuB/bkSXf9B5"
    },
    "kernelspec": {
      "name": "python3",
      "display_name": "Python 3"
    }
  },
  "cells": [
    {
      "cell_type": "markdown",
      "metadata": {
        "id": "x-3kkh2f53MK",
        "colab_type": "text"
      },
      "source": [
        "# Лабораторная работа 1\n",
        " \n",
        "![](https://i.ytimg.com/vi/SR0gNSBvfJw/maxresdefault.jpg)\n",
        "* С\n",
        "* П\n",
        "* И\n",
        "* С\n",
        "* О\n",
        "* К\n",
        "\n",
        "\n",
        "### Таблица 1 \n",
        "столбец 1 | столбец 2\n",
        "--- | ---\n",
        "столбец 1 | столбец 2\n",
        "столбец 1 | столбец 2\n",
        "\n",
        "\n",
        " [ссылочка](https://vk.com/id245043929)"
      ]
    },
    {
      "cell_type": "code",
      "metadata": {
        "id": "I466MxTdDSwZ",
        "colab_type": "code",
        "colab": {}
      },
      "source": [
        ""
      ],
      "execution_count": 0,
      "outputs": []
    }
  ]
}